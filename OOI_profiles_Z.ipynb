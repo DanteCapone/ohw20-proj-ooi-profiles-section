{
 "cells": [
  {
   "cell_type": "code",
   "execution_count": 73,
   "metadata": {},
   "outputs": [
    {
     "name": "stdout",
     "output_type": "stream",
     "text": [
      "Requirement already satisfied: netcdf4 in c:\\users\\luizc\\miniconda3\\lib\\site-packages (1.5.3)\n",
      "Requirement already satisfied: numpy>=1.7 in c:\\users\\luizc\\miniconda3\\lib\\site-packages (from netcdf4) (1.17.5)\n",
      "Requirement already satisfied: cftime in c:\\users\\luizc\\miniconda3\\lib\\site-packages (from netcdf4) (1.0.4.2)\n"
     ]
    },
    {
     "ename": "ModuleNotFoundError",
     "evalue": "No module named 'ctd'",
     "output_type": "error",
     "traceback": [
      "\u001b[1;31m---------------------------------------------------------------------------\u001b[0m",
      "\u001b[1;31mModuleNotFoundError\u001b[0m                       Traceback (most recent call last)",
      "\u001b[1;32m<ipython-input-73-52277671cf0f>\u001b[0m in \u001b[0;36m<module>\u001b[1;34m\u001b[0m\n\u001b[0;32m      9\u001b[0m \u001b[1;32mimport\u001b[0m \u001b[0mmatplotlib\u001b[0m\u001b[1;33m.\u001b[0m\u001b[0mpyplot\u001b[0m \u001b[1;32mas\u001b[0m \u001b[0mplt\u001b[0m\u001b[1;33m\u001b[0m\u001b[1;33m\u001b[0m\u001b[0m\n\u001b[0;32m     10\u001b[0m \u001b[1;32mimport\u001b[0m \u001b[0mcmocean\u001b[0m \u001b[1;32mas\u001b[0m \u001b[0mcmo\u001b[0m\u001b[1;33m\u001b[0m\u001b[1;33m\u001b[0m\u001b[0m\n\u001b[1;32m---> 11\u001b[1;33m \u001b[1;32mimport\u001b[0m \u001b[0mctd\u001b[0m\u001b[1;33m\u001b[0m\u001b[1;33m\u001b[0m\u001b[0m\n\u001b[0m\u001b[0;32m     12\u001b[0m \u001b[1;32mimport\u001b[0m \u001b[0mgsw\u001b[0m\u001b[1;33m\u001b[0m\u001b[1;33m\u001b[0m\u001b[0m\n\u001b[0;32m     13\u001b[0m \u001b[1;32mfrom\u001b[0m \u001b[0mctd\u001b[0m\u001b[1;33m.\u001b[0m\u001b[0mread\u001b[0m \u001b[1;32mimport\u001b[0m \u001b[0m_basename\u001b[0m\u001b[1;33m\u001b[0m\u001b[1;33m\u001b[0m\u001b[0m\n",
      "\u001b[1;31mModuleNotFoundError\u001b[0m: No module named 'ctd'"
     ]
    }
   ],
   "source": [
    "# Notebook setup\n",
    "# Note these libraries are used by Sage's notebook Profile_Examples_for_WHOI.ipynb\n",
    "import requests\n",
    "import os\n",
    "import re\n",
    "import xarray as xr\n",
    "!pip install netcdf4\n",
    "import pandas as pd\n",
    "import matplotlib.pyplot as plt\n",
    "import cmocean as cmo\n",
    "import ctd\n",
    "import gsw\n",
    "from ctd.read import _basename\n",
    "\n",
    "# Make the Plots pretty\n",
    "import seaborn as sns\n",
    "sns.set()\n",
    "\n",
    "# Supress open_mfdataset warnings\n",
    "import warnings\n",
    "warnings.filterwarnings('ignore')"
   ]
  },
  {
   "cell_type": "code",
   "execution_count": 10,
   "metadata": {},
   "outputs": [],
   "source": [
    "# Provide URL to load a single file that has already been downloaded to OOI's OPENDAP server\n",
    "# remember to use #fillmismatch\n",
    "# Create directory that includes all urls\n",
    "data_url = {}\n",
    "data_url['inshore'] = 'https://opendap.oceanobservatories.org/thredds/dodsC/ooi/sbeaulieu@whoi.edu/20200806T132326640Z-CP03ISPM-WFP01-03-CTDPFK000-recovered_wfp-ctdpf_ckl_wfp_instrument_recovered/deployment0003_CP03ISPM-WFP01-03-CTDPFK000-recovered_wfp-ctdpf_ckl_wfp_instrument_recovered_20191006T150003-20191031T212239.977728.nc#fillmismatch'\n",
    "data_url['central_inshore'] = 'https://opendap.oceanobservatories.org/thredds/dodsC/ooi/sbeaulieu@whoi.edu/20200806T132900316Z-CP02PMCI-WFP01-03-CTDPFK000-recovered_wfp-ctdpf_ckl_wfp_instrument_recovered/deployment0013_CP02PMCI-WFP01-03-CTDPFK000-recovered_wfp-ctdpf_ckl_wfp_instrument_recovered_20191007T210003-20191031T212442.986087.nc#fillmismatch'\n",
    "data_url['central_offshore'] = 'https://opendap.oceanobservatories.org/thredds/dodsC/ooi/sbeaulieu@whoi.edu/20200806T133142674Z-CP02PMCO-WFP01-03-CTDPFK000-recovered_wfp-ctdpf_ckl_wfp_instrument_recovered/deployment0013_CP02PMCO-WFP01-03-CTDPFK000-recovered_wfp-ctdpf_ckl_wfp_instrument_recovered_20191008T140003-20191031T212529.983845.nc#fillmismatch'\n",
    "data_url['offshore'] = 'https://opendap.oceanobservatories.org/thredds/dodsC/ooi/sbeaulieu@whoi.edu/20200806T133343088Z-CP04OSPM-WFP01-03-CTDPFK000-recovered_wfp-ctdpf_ckl_wfp_instrument_recovered/deployment0012_CP04OSPM-WFP01-03-CTDPFK000-recovered_wfp-ctdpf_ckl_wfp_instrument_recovered_20191013T160003-20191031T211622.990750.nc#fillmismatch'"
   ]
  },
  {
   "cell_type": "code",
   "execution_count": 4,
   "metadata": {},
   "outputs": [
    {
     "name": "stdout",
     "output_type": "stream",
     "text": [
      "Dataset has 199587 points\n"
     ]
    }
   ],
   "source": [
    "# Load the data file using xarray\n",
    "#ds = xr.open_dataset(data_url)\n",
    "#ds = ds.swap_dims({'obs': 'time'}) #Swap dimensions\n",
    "#print('Dataset has %d points' % ds.time.size)"
   ]
  },
  {
   "cell_type": "code",
   "execution_count": 11,
   "metadata": {},
   "outputs": [
    {
     "name": "stdout",
     "output_type": "stream",
     "text": [
      "Dataset inshore has 158237 points\n",
      "Dataset central_inshore has 210513 points\n",
      "Dataset central_offshore has 236989 points\n",
      "Dataset offshore has 199587 points\n"
     ]
    }
   ],
   "source": [
    "# Load the data file using xarray\n",
    "# This code is from Svenja Ryan in OOI_profiles_Svenja.ipynb\n",
    "def load2xarray(location):\n",
    "    \"\"\"\n",
    "    Load data at given location and reduce to variables of interest.\n",
    "    \"\"\"\n",
    "    ds = xr.open_dataset(data_url[location])\n",
    "    ds = ds.swap_dims({'obs': 'time'}) #Swap dimensions\n",
    "    print('Dataset '+ location +' has %d points' % ds.time.size)\n",
    "    ds = ds[['ctdpf_ckl_seawater_pressure','ctdpf_ckl_seawater_temperature','practical_salinity']]\n",
    "    return ds\n",
    "\n",
    "ds={}\n",
    "for loc in list(data_url.keys()):\n",
    "    ds[loc] = load2xarray(loc)"
   ]
  },
  {
   "cell_type": "code",
   "execution_count": 42,
   "metadata": {},
   "outputs": [
    {
     "data": {
      "text/html": [
       "<pre>&lt;xarray.Dataset&gt;\n",
       "Dimensions:                         (time: 199587)\n",
       "Coordinates:\n",
       "  * time                            (time) datetime64[ns] 2019-10-13T16:00:03 ... 2019-10-31T21:16:22.990750208\n",
       "    lon                             (time) float64 ...\n",
       "    lat                             (time) float64 ...\n",
       "    pressure                        (time) float64 ...\n",
       "    obs                             (time) int32 0 1 2 ... 199584 199585 199586\n",
       "Data variables:\n",
       "    ctdpf_ckl_seawater_pressure     (time) float64 20.06 20.02 ... 201.2 201.2\n",
       "    ctdpf_ckl_seawater_temperature  (time) float64 ...\n",
       "    practical_salinity              (time) float64 ...\n",
       "Attributes:\n",
       "    _NCProperties:                   version=1|netcdflibversion=4.6.1|hdf5lib...\n",
       "    node:                            WFP01\n",
       "    comment:                         \n",
       "    publisher_email:                 \n",
       "    sourceUrl:                       http://oceanobservatories.org/\n",
       "    collection_method:               recovered_wfp\n",
       "    stream:                          ctdpf_ckl_wfp_instrument_recovered\n",
       "    featureType:                     point\n",
       "    creator_email:                   \n",
       "    publisher_name:                  Ocean Observatories Initiative\n",
       "    date_modified:                   2020-08-06T13:36:22.827367\n",
       "    keywords:                        \n",
       "    cdm_data_type:                   Point\n",
       "    references:                      More information can be found at http://...\n",
       "    Metadata_Conventions:            Unidata Dataset Discovery v1.0\n",
       "    date_created:                    2020-08-06T13:36:22.827364\n",
       "    id:                              CP04OSPM-WFP01-03-CTDPFK000-recovered_wf...\n",
       "    requestUUID:                     71972c2a-379b-4d67-aa66-e0b52db477b5\n",
       "    contributor_role:                \n",
       "    summary:                         Dataset Generated by Stream Engine from ...\n",
       "    keywords_vocabulary:             \n",
       "    institution:                     Ocean Observatories Initiative\n",
       "    naming_authority:                org.oceanobservatories\n",
       "    feature_Type:                    point\n",
       "    infoUrl:                         http://oceanobservatories.org/\n",
       "    license:                         \n",
       "    contributor_name:                \n",
       "    uuid:                            71972c2a-379b-4d67-aa66-e0b52db477b5\n",
       "    creator_name:                    Ocean Observatories Initiative\n",
       "    title:                           Data produced by Stream Engine version 1...\n",
       "    sensor:                          03-CTDPFK000\n",
       "    standard_name_vocabulary:        NetCDF Climate and Forecast (CF) Metadat...\n",
       "    acknowledgement:                 \n",
       "    Conventions:                     CF-1.6\n",
       "    project:                         Ocean Observatories Initiative\n",
       "    source:                          CP04OSPM-WFP01-03-CTDPFK000-recovered_wf...\n",
       "    publisher_url:                   http://oceanobservatories.org/\n",
       "    creator_url:                     http://oceanobservatories.org/\n",
       "    nodc_template_version:           NODC_NetCDF_TimeSeries_Orthogonal_Templa...\n",
       "    subsite:                         CP04OSPM\n",
       "    processing_level:                L2\n",
       "    history:                         2020-08-06T13:36:22.827326 generated fro...\n",
       "    time_coverage_start:             2019-10-13T16:00:03\n",
       "    time_coverage_end:               2019-10-31T21:16:22.990750\n",
       "    time_coverage_resolution:        P7.89S\n",
       "    geospatial_lat_min:              39.935558\n",
       "    geospatial_lat_max:              39.935558\n",
       "    geospatial_lat_units:            degrees_north\n",
       "    geospatial_lat_resolution:       0.1\n",
       "    geospatial_lon_min:              -70.880328\n",
       "    geospatial_lon_max:              -70.880328\n",
       "    geospatial_lon_units:            degrees_east\n",
       "    geospatial_lon_resolution:       0.1\n",
       "    geospatial_vertical_units:       meters\n",
       "    geospatial_vertical_resolution:  0.1\n",
       "    geospatial_vertical_positive:    down\n",
       "    DODS.strlen:                     18\n",
       "    DODS.dimName:                    string18\n",
       "    DODS_EXTRA.Unlimited_Dimension:  obs</pre>"
      ],
      "text/plain": [
       "<xarray.Dataset>\n",
       "Dimensions:                         (time: 199587)\n",
       "Coordinates:\n",
       "  * time                            (time) datetime64[ns] 2019-10-13T16:00:03 ... 2019-10-31T21:16:22.990750208\n",
       "    lon                             (time) float64 ...\n",
       "    lat                             (time) float64 ...\n",
       "    pressure                        (time) float64 ...\n",
       "    obs                             (time) int32 0 1 2 ... 199584 199585 199586\n",
       "Data variables:\n",
       "    ctdpf_ckl_seawater_pressure     (time) float64 20.06 20.02 ... 201.2 201.2\n",
       "    ctdpf_ckl_seawater_temperature  (time) float64 ...\n",
       "    practical_salinity              (time) float64 ...\n",
       "Attributes:\n",
       "    _NCProperties:                   version=1|netcdflibversion=4.6.1|hdf5lib...\n",
       "    node:                            WFP01\n",
       "    comment:                         \n",
       "    publisher_email:                 \n",
       "    sourceUrl:                       http://oceanobservatories.org/\n",
       "    collection_method:               recovered_wfp\n",
       "    stream:                          ctdpf_ckl_wfp_instrument_recovered\n",
       "    featureType:                     point\n",
       "    creator_email:                   \n",
       "    publisher_name:                  Ocean Observatories Initiative\n",
       "    date_modified:                   2020-08-06T13:36:22.827367\n",
       "    keywords:                        \n",
       "    cdm_data_type:                   Point\n",
       "    references:                      More information can be found at http://...\n",
       "    Metadata_Conventions:            Unidata Dataset Discovery v1.0\n",
       "    date_created:                    2020-08-06T13:36:22.827364\n",
       "    id:                              CP04OSPM-WFP01-03-CTDPFK000-recovered_wf...\n",
       "    requestUUID:                     71972c2a-379b-4d67-aa66-e0b52db477b5\n",
       "    contributor_role:                \n",
       "    summary:                         Dataset Generated by Stream Engine from ...\n",
       "    keywords_vocabulary:             \n",
       "    institution:                     Ocean Observatories Initiative\n",
       "    naming_authority:                org.oceanobservatories\n",
       "    feature_Type:                    point\n",
       "    infoUrl:                         http://oceanobservatories.org/\n",
       "    license:                         \n",
       "    contributor_name:                \n",
       "    uuid:                            71972c2a-379b-4d67-aa66-e0b52db477b5\n",
       "    creator_name:                    Ocean Observatories Initiative\n",
       "    title:                           Data produced by Stream Engine version 1...\n",
       "    sensor:                          03-CTDPFK000\n",
       "    standard_name_vocabulary:        NetCDF Climate and Forecast (CF) Metadat...\n",
       "    acknowledgement:                 \n",
       "    Conventions:                     CF-1.6\n",
       "    project:                         Ocean Observatories Initiative\n",
       "    source:                          CP04OSPM-WFP01-03-CTDPFK000-recovered_wf...\n",
       "    publisher_url:                   http://oceanobservatories.org/\n",
       "    creator_url:                     http://oceanobservatories.org/\n",
       "    nodc_template_version:           NODC_NetCDF_TimeSeries_Orthogonal_Templa...\n",
       "    subsite:                         CP04OSPM\n",
       "    processing_level:                L2\n",
       "    history:                         2020-08-06T13:36:22.827326 generated fro...\n",
       "    time_coverage_start:             2019-10-13T16:00:03\n",
       "    time_coverage_end:               2019-10-31T21:16:22.990750\n",
       "    time_coverage_resolution:        P7.89S\n",
       "    geospatial_lat_min:              39.935558\n",
       "    geospatial_lat_max:              39.935558\n",
       "    geospatial_lat_units:            degrees_north\n",
       "    geospatial_lat_resolution:       0.1\n",
       "    geospatial_lon_min:              -70.880328\n",
       "    geospatial_lon_max:              -70.880328\n",
       "    geospatial_lon_units:            degrees_east\n",
       "    geospatial_lon_resolution:       0.1\n",
       "    geospatial_vertical_units:       meters\n",
       "    geospatial_vertical_resolution:  0.1\n",
       "    geospatial_vertical_positive:    down\n",
       "    DODS.strlen:                     18\n",
       "    DODS.dimName:                    string18\n",
       "    DODS_EXTRA.Unlimited_Dimension:  obs"
      ]
     },
     "execution_count": 42,
     "metadata": {},
     "output_type": "execute_result"
    }
   ],
   "source": [
    "#Check out a profile\n",
    "ds['offshore']"
   ]
  },
  {
   "cell_type": "code",
   "execution_count": 71,
   "metadata": {},
   "outputs": [],
   "source": [
    "ds_off=ds['offshore']"
   ]
  },
  {
   "cell_type": "code",
   "execution_count": 72,
   "metadata": {},
   "outputs": [],
   "source": [
    "pressure_off = ds_off.ctdpf_ckl_seawater_pressure\n",
    "temp_off = ds_off.ctdpf_ckl_seawater_temperature\n",
    "salinity_off = ds_off.practical_salinity"
   ]
  },
  {
   "cell_type": "code",
   "execution_count": 67,
   "metadata": {},
   "outputs": [
    {
     "ename": "AttributeError",
     "evalue": "'PolyCollection' object has no property 'c'",
     "output_type": "error",
     "traceback": [
      "\u001b[1;31m---------------------------------------------------------------------------\u001b[0m",
      "\u001b[1;31mAttributeError\u001b[0m                            Traceback (most recent call last)",
      "\u001b[1;32m<ipython-input-67-7e0653539218>\u001b[0m in \u001b[0;36m<module>\u001b[1;34m\u001b[0m\n\u001b[0;32m      1\u001b[0m \u001b[0mplt\u001b[0m\u001b[1;33m.\u001b[0m\u001b[0mfigure\u001b[0m\u001b[1;33m(\u001b[0m\u001b[0mfigsize\u001b[0m\u001b[1;33m=\u001b[0m\u001b[1;33m[\u001b[0m\u001b[1;36m12\u001b[0m\u001b[1;33m,\u001b[0m \u001b[1;36m6\u001b[0m\u001b[1;33m]\u001b[0m\u001b[1;33m)\u001b[0m\u001b[1;33m\u001b[0m\u001b[1;33m\u001b[0m\u001b[0m\n\u001b[1;32m----> 2\u001b[1;33m \u001b[0mplt\u001b[0m\u001b[1;33m.\u001b[0m\u001b[0mpcolor\u001b[0m\u001b[1;33m(\u001b[0m\u001b[1;33m[\u001b[0m\u001b[0mds\u001b[0m\u001b[1;33m[\u001b[0m\u001b[1;34m'offshore'\u001b[0m\u001b[1;33m]\u001b[0m\u001b[1;33m.\u001b[0m\u001b[0mtime\u001b[0m\u001b[1;33m,\u001b[0m \u001b[0mpressure_off\u001b[0m\u001b[1;33m]\u001b[0m\u001b[1;33m,\u001b[0m \u001b[0mc\u001b[0m\u001b[1;33m=\u001b[0m\u001b[0mtemp_off\u001b[0m\u001b[1;33m)\u001b[0m\u001b[1;33m\u001b[0m\u001b[1;33m\u001b[0m\u001b[0m\n\u001b[0m\u001b[0;32m      3\u001b[0m \u001b[1;31m#ds['offshore'].plot.scatter(x=\"time\", y=\"pressure\", c=temp_off)\u001b[0m\u001b[1;33m\u001b[0m\u001b[1;33m\u001b[0m\u001b[1;33m\u001b[0m\u001b[0m\n",
      "\u001b[1;32m~\\Miniconda3\\lib\\site-packages\\matplotlib\\pyplot.py\u001b[0m in \u001b[0;36mpcolor\u001b[1;34m(alpha, norm, cmap, vmin, vmax, data, *args, **kwargs)\u001b[0m\n\u001b[0;32m   2735\u001b[0m         \u001b[1;33m*\u001b[0m\u001b[0margs\u001b[0m\u001b[1;33m,\u001b[0m \u001b[0malpha\u001b[0m\u001b[1;33m=\u001b[0m\u001b[0malpha\u001b[0m\u001b[1;33m,\u001b[0m \u001b[0mnorm\u001b[0m\u001b[1;33m=\u001b[0m\u001b[0mnorm\u001b[0m\u001b[1;33m,\u001b[0m \u001b[0mcmap\u001b[0m\u001b[1;33m=\u001b[0m\u001b[0mcmap\u001b[0m\u001b[1;33m,\u001b[0m \u001b[0mvmin\u001b[0m\u001b[1;33m=\u001b[0m\u001b[0mvmin\u001b[0m\u001b[1;33m,\u001b[0m\u001b[1;33m\u001b[0m\u001b[1;33m\u001b[0m\u001b[0m\n\u001b[0;32m   2736\u001b[0m         \u001b[0mvmax\u001b[0m\u001b[1;33m=\u001b[0m\u001b[0mvmax\u001b[0m\u001b[1;33m,\u001b[0m \u001b[1;33m**\u001b[0m\u001b[1;33m(\u001b[0m\u001b[1;33m{\u001b[0m\u001b[1;34m\"data\"\u001b[0m\u001b[1;33m:\u001b[0m \u001b[0mdata\u001b[0m\u001b[1;33m}\u001b[0m \u001b[1;32mif\u001b[0m \u001b[0mdata\u001b[0m \u001b[1;32mis\u001b[0m \u001b[1;32mnot\u001b[0m \u001b[1;32mNone\u001b[0m \u001b[1;32melse\u001b[0m \u001b[1;33m{\u001b[0m\u001b[1;33m}\u001b[0m\u001b[1;33m)\u001b[0m\u001b[1;33m,\u001b[0m\u001b[1;33m\u001b[0m\u001b[1;33m\u001b[0m\u001b[0m\n\u001b[1;32m-> 2737\u001b[1;33m         **kwargs)\n\u001b[0m\u001b[0;32m   2738\u001b[0m     \u001b[0msci\u001b[0m\u001b[1;33m(\u001b[0m\u001b[0m__ret\u001b[0m\u001b[1;33m)\u001b[0m\u001b[1;33m\u001b[0m\u001b[1;33m\u001b[0m\u001b[0m\n\u001b[0;32m   2739\u001b[0m     \u001b[1;32mreturn\u001b[0m \u001b[0m__ret\u001b[0m\u001b[1;33m\u001b[0m\u001b[1;33m\u001b[0m\u001b[0m\n",
      "\u001b[1;32m~\\Miniconda3\\lib\\site-packages\\matplotlib\\__init__.py\u001b[0m in \u001b[0;36minner\u001b[1;34m(ax, data, *args, **kwargs)\u001b[0m\n\u001b[0;32m   1597\u001b[0m     \u001b[1;32mdef\u001b[0m \u001b[0minner\u001b[0m\u001b[1;33m(\u001b[0m\u001b[0max\u001b[0m\u001b[1;33m,\u001b[0m \u001b[1;33m*\u001b[0m\u001b[0margs\u001b[0m\u001b[1;33m,\u001b[0m \u001b[0mdata\u001b[0m\u001b[1;33m=\u001b[0m\u001b[1;32mNone\u001b[0m\u001b[1;33m,\u001b[0m \u001b[1;33m**\u001b[0m\u001b[0mkwargs\u001b[0m\u001b[1;33m)\u001b[0m\u001b[1;33m:\u001b[0m\u001b[1;33m\u001b[0m\u001b[1;33m\u001b[0m\u001b[0m\n\u001b[0;32m   1598\u001b[0m         \u001b[1;32mif\u001b[0m \u001b[0mdata\u001b[0m \u001b[1;32mis\u001b[0m \u001b[1;32mNone\u001b[0m\u001b[1;33m:\u001b[0m\u001b[1;33m\u001b[0m\u001b[1;33m\u001b[0m\u001b[0m\n\u001b[1;32m-> 1599\u001b[1;33m             \u001b[1;32mreturn\u001b[0m \u001b[0mfunc\u001b[0m\u001b[1;33m(\u001b[0m\u001b[0max\u001b[0m\u001b[1;33m,\u001b[0m \u001b[1;33m*\u001b[0m\u001b[0mmap\u001b[0m\u001b[1;33m(\u001b[0m\u001b[0msanitize_sequence\u001b[0m\u001b[1;33m,\u001b[0m \u001b[0margs\u001b[0m\u001b[1;33m)\u001b[0m\u001b[1;33m,\u001b[0m \u001b[1;33m**\u001b[0m\u001b[0mkwargs\u001b[0m\u001b[1;33m)\u001b[0m\u001b[1;33m\u001b[0m\u001b[1;33m\u001b[0m\u001b[0m\n\u001b[0m\u001b[0;32m   1600\u001b[0m \u001b[1;33m\u001b[0m\u001b[0m\n\u001b[0;32m   1601\u001b[0m         \u001b[0mbound\u001b[0m \u001b[1;33m=\u001b[0m \u001b[0mnew_sig\u001b[0m\u001b[1;33m.\u001b[0m\u001b[0mbind\u001b[0m\u001b[1;33m(\u001b[0m\u001b[0max\u001b[0m\u001b[1;33m,\u001b[0m \u001b[1;33m*\u001b[0m\u001b[0margs\u001b[0m\u001b[1;33m,\u001b[0m \u001b[1;33m**\u001b[0m\u001b[0mkwargs\u001b[0m\u001b[1;33m)\u001b[0m\u001b[1;33m\u001b[0m\u001b[1;33m\u001b[0m\u001b[0m\n",
      "\u001b[1;32m~\\Miniconda3\\lib\\site-packages\\matplotlib\\axes\\_axes.py\u001b[0m in \u001b[0;36mpcolor\u001b[1;34m(self, alpha, norm, cmap, vmin, vmax, *args, **kwargs)\u001b[0m\n\u001b[0;32m   5956\u001b[0m         \u001b[0mkwargs\u001b[0m\u001b[1;33m.\u001b[0m\u001b[0msetdefault\u001b[0m\u001b[1;33m(\u001b[0m\u001b[1;34m'snap'\u001b[0m\u001b[1;33m,\u001b[0m \u001b[1;32mFalse\u001b[0m\u001b[1;33m)\u001b[0m\u001b[1;33m\u001b[0m\u001b[1;33m\u001b[0m\u001b[0m\n\u001b[0;32m   5957\u001b[0m \u001b[1;33m\u001b[0m\u001b[0m\n\u001b[1;32m-> 5958\u001b[1;33m         \u001b[0mcollection\u001b[0m \u001b[1;33m=\u001b[0m \u001b[0mmcoll\u001b[0m\u001b[1;33m.\u001b[0m\u001b[0mPolyCollection\u001b[0m\u001b[1;33m(\u001b[0m\u001b[0mverts\u001b[0m\u001b[1;33m,\u001b[0m \u001b[1;33m**\u001b[0m\u001b[0mkwargs\u001b[0m\u001b[1;33m)\u001b[0m\u001b[1;33m\u001b[0m\u001b[1;33m\u001b[0m\u001b[0m\n\u001b[0m\u001b[0;32m   5959\u001b[0m \u001b[1;33m\u001b[0m\u001b[0m\n\u001b[0;32m   5960\u001b[0m         \u001b[0mcollection\u001b[0m\u001b[1;33m.\u001b[0m\u001b[0mset_alpha\u001b[0m\u001b[1;33m(\u001b[0m\u001b[0malpha\u001b[0m\u001b[1;33m)\u001b[0m\u001b[1;33m\u001b[0m\u001b[1;33m\u001b[0m\u001b[0m\n",
      "\u001b[1;32m~\\Miniconda3\\lib\\site-packages\\matplotlib\\collections.py\u001b[0m in \u001b[0;36m__init__\u001b[1;34m(self, verts, sizes, closed, **kwargs)\u001b[0m\n\u001b[0;32m   1042\u001b[0m         \u001b[1;33m%\u001b[0m\u001b[1;33m(\u001b[0m\u001b[0mCollection\u001b[0m\u001b[1;33m)\u001b[0m\u001b[0ms\u001b[0m\u001b[1;33m\u001b[0m\u001b[1;33m\u001b[0m\u001b[0m\n\u001b[0;32m   1043\u001b[0m         \"\"\"\n\u001b[1;32m-> 1044\u001b[1;33m         \u001b[0mCollection\u001b[0m\u001b[1;33m.\u001b[0m\u001b[0m__init__\u001b[0m\u001b[1;33m(\u001b[0m\u001b[0mself\u001b[0m\u001b[1;33m,\u001b[0m \u001b[1;33m**\u001b[0m\u001b[0mkwargs\u001b[0m\u001b[1;33m)\u001b[0m\u001b[1;33m\u001b[0m\u001b[1;33m\u001b[0m\u001b[0m\n\u001b[0m\u001b[0;32m   1045\u001b[0m         \u001b[0mself\u001b[0m\u001b[1;33m.\u001b[0m\u001b[0mset_sizes\u001b[0m\u001b[1;33m(\u001b[0m\u001b[0msizes\u001b[0m\u001b[1;33m)\u001b[0m\u001b[1;33m\u001b[0m\u001b[1;33m\u001b[0m\u001b[0m\n\u001b[0;32m   1046\u001b[0m         \u001b[0mself\u001b[0m\u001b[1;33m.\u001b[0m\u001b[0mset_verts\u001b[0m\u001b[1;33m(\u001b[0m\u001b[0mverts\u001b[0m\u001b[1;33m,\u001b[0m \u001b[0mclosed\u001b[0m\u001b[1;33m)\u001b[0m\u001b[1;33m\u001b[0m\u001b[1;33m\u001b[0m\u001b[0m\n",
      "\u001b[1;32m~\\Miniconda3\\lib\\site-packages\\matplotlib\\collections.py\u001b[0m in \u001b[0;36m__init__\u001b[1;34m(self, edgecolors, facecolors, linewidths, linestyles, capstyle, joinstyle, antialiaseds, offsets, transOffset, norm, cmap, pickradius, hatch, urls, offset_position, zorder, **kwargs)\u001b[0m\n\u001b[0;32m    160\u001b[0m \u001b[1;33m\u001b[0m\u001b[0m\n\u001b[0;32m    161\u001b[0m         \u001b[0mself\u001b[0m\u001b[1;33m.\u001b[0m\u001b[0m_path_effects\u001b[0m \u001b[1;33m=\u001b[0m \u001b[1;32mNone\u001b[0m\u001b[1;33m\u001b[0m\u001b[1;33m\u001b[0m\u001b[0m\n\u001b[1;32m--> 162\u001b[1;33m         \u001b[0mself\u001b[0m\u001b[1;33m.\u001b[0m\u001b[0mupdate\u001b[0m\u001b[1;33m(\u001b[0m\u001b[0mkwargs\u001b[0m\u001b[1;33m)\u001b[0m\u001b[1;33m\u001b[0m\u001b[1;33m\u001b[0m\u001b[0m\n\u001b[0m\u001b[0;32m    163\u001b[0m         \u001b[0mself\u001b[0m\u001b[1;33m.\u001b[0m\u001b[0m_paths\u001b[0m \u001b[1;33m=\u001b[0m \u001b[1;32mNone\u001b[0m\u001b[1;33m\u001b[0m\u001b[1;33m\u001b[0m\u001b[0m\n\u001b[0;32m    164\u001b[0m \u001b[1;33m\u001b[0m\u001b[0m\n",
      "\u001b[1;32m~\\Miniconda3\\lib\\site-packages\\matplotlib\\artist.py\u001b[0m in \u001b[0;36mupdate\u001b[1;34m(self, props)\u001b[0m\n\u001b[0;32m    972\u001b[0m \u001b[1;33m\u001b[0m\u001b[0m\n\u001b[0;32m    973\u001b[0m         \u001b[1;32mwith\u001b[0m \u001b[0mcbook\u001b[0m\u001b[1;33m.\u001b[0m\u001b[0m_setattr_cm\u001b[0m\u001b[1;33m(\u001b[0m\u001b[0mself\u001b[0m\u001b[1;33m,\u001b[0m \u001b[0meventson\u001b[0m\u001b[1;33m=\u001b[0m\u001b[1;32mFalse\u001b[0m\u001b[1;33m)\u001b[0m\u001b[1;33m:\u001b[0m\u001b[1;33m\u001b[0m\u001b[1;33m\u001b[0m\u001b[0m\n\u001b[1;32m--> 974\u001b[1;33m             \u001b[0mret\u001b[0m \u001b[1;33m=\u001b[0m \u001b[1;33m[\u001b[0m\u001b[0m_update_property\u001b[0m\u001b[1;33m(\u001b[0m\u001b[0mself\u001b[0m\u001b[1;33m,\u001b[0m \u001b[0mk\u001b[0m\u001b[1;33m,\u001b[0m \u001b[0mv\u001b[0m\u001b[1;33m)\u001b[0m \u001b[1;32mfor\u001b[0m \u001b[0mk\u001b[0m\u001b[1;33m,\u001b[0m \u001b[0mv\u001b[0m \u001b[1;32min\u001b[0m \u001b[0mprops\u001b[0m\u001b[1;33m.\u001b[0m\u001b[0mitems\u001b[0m\u001b[1;33m(\u001b[0m\u001b[1;33m)\u001b[0m\u001b[1;33m]\u001b[0m\u001b[1;33m\u001b[0m\u001b[1;33m\u001b[0m\u001b[0m\n\u001b[0m\u001b[0;32m    975\u001b[0m \u001b[1;33m\u001b[0m\u001b[0m\n\u001b[0;32m    976\u001b[0m         \u001b[1;32mif\u001b[0m \u001b[0mlen\u001b[0m\u001b[1;33m(\u001b[0m\u001b[0mret\u001b[0m\u001b[1;33m)\u001b[0m\u001b[1;33m:\u001b[0m\u001b[1;33m\u001b[0m\u001b[1;33m\u001b[0m\u001b[0m\n",
      "\u001b[1;32m~\\Miniconda3\\lib\\site-packages\\matplotlib\\artist.py\u001b[0m in \u001b[0;36m<listcomp>\u001b[1;34m(.0)\u001b[0m\n\u001b[0;32m    972\u001b[0m \u001b[1;33m\u001b[0m\u001b[0m\n\u001b[0;32m    973\u001b[0m         \u001b[1;32mwith\u001b[0m \u001b[0mcbook\u001b[0m\u001b[1;33m.\u001b[0m\u001b[0m_setattr_cm\u001b[0m\u001b[1;33m(\u001b[0m\u001b[0mself\u001b[0m\u001b[1;33m,\u001b[0m \u001b[0meventson\u001b[0m\u001b[1;33m=\u001b[0m\u001b[1;32mFalse\u001b[0m\u001b[1;33m)\u001b[0m\u001b[1;33m:\u001b[0m\u001b[1;33m\u001b[0m\u001b[1;33m\u001b[0m\u001b[0m\n\u001b[1;32m--> 974\u001b[1;33m             \u001b[0mret\u001b[0m \u001b[1;33m=\u001b[0m \u001b[1;33m[\u001b[0m\u001b[0m_update_property\u001b[0m\u001b[1;33m(\u001b[0m\u001b[0mself\u001b[0m\u001b[1;33m,\u001b[0m \u001b[0mk\u001b[0m\u001b[1;33m,\u001b[0m \u001b[0mv\u001b[0m\u001b[1;33m)\u001b[0m \u001b[1;32mfor\u001b[0m \u001b[0mk\u001b[0m\u001b[1;33m,\u001b[0m \u001b[0mv\u001b[0m \u001b[1;32min\u001b[0m \u001b[0mprops\u001b[0m\u001b[1;33m.\u001b[0m\u001b[0mitems\u001b[0m\u001b[1;33m(\u001b[0m\u001b[1;33m)\u001b[0m\u001b[1;33m]\u001b[0m\u001b[1;33m\u001b[0m\u001b[1;33m\u001b[0m\u001b[0m\n\u001b[0m\u001b[0;32m    975\u001b[0m \u001b[1;33m\u001b[0m\u001b[0m\n\u001b[0;32m    976\u001b[0m         \u001b[1;32mif\u001b[0m \u001b[0mlen\u001b[0m\u001b[1;33m(\u001b[0m\u001b[0mret\u001b[0m\u001b[1;33m)\u001b[0m\u001b[1;33m:\u001b[0m\u001b[1;33m\u001b[0m\u001b[1;33m\u001b[0m\u001b[0m\n",
      "\u001b[1;32m~\\Miniconda3\\lib\\site-packages\\matplotlib\\artist.py\u001b[0m in \u001b[0;36m_update_property\u001b[1;34m(self, k, v)\u001b[0m\n\u001b[0;32m    968\u001b[0m                 \u001b[1;32mif\u001b[0m \u001b[1;32mnot\u001b[0m \u001b[0mcallable\u001b[0m\u001b[1;33m(\u001b[0m\u001b[0mfunc\u001b[0m\u001b[1;33m)\u001b[0m\u001b[1;33m:\u001b[0m\u001b[1;33m\u001b[0m\u001b[1;33m\u001b[0m\u001b[0m\n\u001b[0;32m    969\u001b[0m                     raise AttributeError('{!r} object has no property {!r}'\n\u001b[1;32m--> 970\u001b[1;33m                                          .format(type(self).__name__, k))\n\u001b[0m\u001b[0;32m    971\u001b[0m                 \u001b[1;32mreturn\u001b[0m \u001b[0mfunc\u001b[0m\u001b[1;33m(\u001b[0m\u001b[0mv\u001b[0m\u001b[1;33m)\u001b[0m\u001b[1;33m\u001b[0m\u001b[1;33m\u001b[0m\u001b[0m\n\u001b[0;32m    972\u001b[0m \u001b[1;33m\u001b[0m\u001b[0m\n",
      "\u001b[1;31mAttributeError\u001b[0m: 'PolyCollection' object has no property 'c'"
     ]
    },
    {
     "data": {
      "image/png": "[encoded data removed]",
      "text/plain": [
       "<Figure size 864x432 with 1 Axes>"
      ]
     },
     "metadata": {},
     "output_type": "display_data"
    }
   ],
   "source": [
    "plt.figure(figsize=[12, 6])\n",
    "plt.pcolor([ds['offshore'].time, pressure_off], c=temp_off)\n",
    "#ds['offshore'].plot.scatter(x=\"time\", y=\"pressure\", c=temp_off)"
   ]
  },
  {
   "cell_type": "code",
   "execution_count": null,
   "metadata": {},
   "outputs": [],
   "source": []
  }
 ],
 "metadata": {
  "kernelspec": {
   "display_name": "Python 3",
   "language": "python",
   "name": "python3"
  },
  "language_info": {
   "codemirror_mode": {
    "name": "ipython",
    "version": 3
   },
   "file_extension": ".py",
   "mimetype": "text/x-python",
   "name": "python",
   "nbconvert_exporter": "python",
   "pygments_lexer": "ipython3",
   "version": "3.7.4"
  }
 },
 "nbformat": 4,
 "nbformat_minor": 4
}
