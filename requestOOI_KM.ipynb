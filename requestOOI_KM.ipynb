{
 "cells": [
  {
   "cell_type": "code",
   "execution_count": 1,
   "metadata": {},
   "outputs": [
    {
     "name": "stdout",
     "output_type": "stream",
     "text": [
      "Collecting netcdf4\n",
      "  Downloading netCDF4-1.5.4-cp37-cp37m-manylinux1_x86_64.whl (4.3 MB)\n",
      "\u001b[K     |████████████████████████████████| 4.3 MB 4.3 MB/s eta 0:00:01\n",
      "\u001b[?25hCollecting numpy>=1.9\n",
      "  Downloading numpy-1.19.1-cp37-cp37m-manylinux2010_x86_64.whl (14.5 MB)\n",
      "\u001b[K     |████████████████████████████████| 14.5 MB 68.9 MB/s eta 0:00:01\n",
      "\u001b[?25hCollecting cftime\n",
      "  Downloading cftime-1.2.1-cp37-cp37m-manylinux1_x86_64.whl (287 kB)\n",
      "\u001b[K     |████████████████████████████████| 287 kB 52.9 MB/s eta 0:00:01\n",
      "\u001b[?25hInstalling collected packages: numpy, cftime, netcdf4\n",
      "Successfully installed cftime-1.2.1 netcdf4-1.5.4 numpy-1.19.1\n"
     ]
    }
   ],
   "source": [
    "# Notebook setup\n",
    "import requests\n",
    "import os\n",
    "import re\n",
    "\n",
    "import xarray as xr\n",
    "!pip install netcdf4\n",
    "\n",
    "import matplotlib.pyplot as plt\n",
    "\n",
    "# Setup default plot styles\n",
    "import seaborn as sns\n",
    "sns.set()"
   ]
  },
  {
   "cell_type": "code",
   "execution_count": 2,
   "metadata": {},
   "outputs": [],
   "source": [
    "def request_data(reference_designator,method,stream,start_date=None,end_date=None):\n",
    "  site = reference_designator[:8]\n",
    "  node = reference_designator[9:14]\n",
    "  instrument = reference_designator[15:]\n",
    "  \n",
    "  # Create the request URL\n",
    "  api_base_url = 'https://ooinet.oceanobservatories.org/api/m2m/12576/sensor/inv'\n",
    "  data_request_url ='/'.join((api_base_url,site,node,instrument,method,stream))\n",
    "\n",
    "  # All of the following are optional, but you should specify a date range\n",
    "  params = {\n",
    "    'format':'application/netcdf',\n",
    "    'include_provenance':'true',\n",
    "    'include_annotations':'true'\n",
    "  }\n",
    "  if (start_date):\n",
    "    params['beginDT'] = start_date\n",
    "  if (end_date):\n",
    "    params['endDT'] = end_date\n",
    "\n",
    "  # Make the data request\n",
    "  r = requests.get(data_request_url, params=params, auth=(API_USERNAME, API_TOKEN))\n",
    "  data = r.json()\n",
    "  \n",
    "  if 'allURLs' in data:\n",
    "    # All good, return just the THREDDS URL\n",
    "    return data['allURLs'][0]\n",
    "  else:\n",
    "   print('Error: %s %s' % (data['message']['code'],data['message']['status']))"
   ]
  },
  {
   "cell_type": "code",
   "execution_count": 3,
   "metadata": {},
   "outputs": [],
   "source": [
    "API_USERNAME = 'OOIAPI-ELKNGXGRW2PEGB'\n",
    "API_TOKEN = 'TEMP-TOKEN-8X5NKFVBO6959V'"
   ]
  },
  {
   "cell_type": "code",
   "execution_count": 10,
   "metadata": {},
   "outputs": [
    {
     "data": {
      "text/plain": [
       "'https://opendap.oceanobservatories.org/thredds/catalog/ooi/kelly.m.mcgarry@uconn.edu/20200811T183127935Z-CP01CNSM-SBD11-06-METBKA000-telemetered-metbk_a_dcl_instrument/catalog.html'"
      ]
     },
     "execution_count": 10,
     "metadata": {},
     "output_type": "execute_result"
    }
   ],
   "source": [
    "request_data('CP01CNSM-SBD11-06-METBKA000','telemetered','metbk_a_dcl_instrument',\n",
    "             '2019-01-01T00:00:00.000Z','2020-05-06T00:00:00.000Z')"
   ]
  },
  {
   "cell_type": "code",
   "execution_count": 9,
   "metadata": {},
   "outputs": [
    {
     "data": {
      "text/plain": [
       "'https://opendap.oceanobservatories.org/thredds/catalog/ooi/kelly.m.mcgarry@uconn.edu/20200811T183044425Z-CP02PMCI-WFP01-03-CTDPFK000-telemetered-ctdpf_ckl_wfp_instrument/catalog.html'"
      ]
     },
     "execution_count": 9,
     "metadata": {},
     "output_type": "execute_result"
    }
   ],
   "source": [
    "# Data Request - Comment out after running\n",
    "request_data('CP02PMCI-WFP01-03-CTDPFK000','telemetered','ctdpf_ckl_wfp_instrument','2019-01-01T00:00:00.000Z','2019-12-31T00:00:00.000Z')"
   ]
  },
  {
   "cell_type": "code",
   "execution_count": 12,
   "metadata": {},
   "outputs": [],
   "source": [
    "data_URL = 'https://opendap.oceanobservatories.org/thredds/catalog/ooi/kelly.m.mcgarry@uconn.edu/20200811T183044425Z-CP02PMCI-WFP01-03-CTDPFK000-telemetered-ctdpf_ckl_wfp_instrument/catalog.html'"
   ]
  },
  {
   "cell_type": "code",
   "execution_count": null,
   "metadata": {},
   "outputs": [],
   "source": []
  }
 ],
 "metadata": {
  "kernelspec": {
   "display_name": "Python 3",
   "language": "python",
   "name": "python3"
  },
  "language_info": {
   "codemirror_mode": {
    "name": "ipython",
    "version": 3
   },
   "file_extension": ".py",
   "mimetype": "text/x-python",
   "name": "python",
   "nbconvert_exporter": "python",
   "pygments_lexer": "ipython3",
   "version": "3.8.5"
  }
 },
 "nbformat": 4,
 "nbformat_minor": 4
}
